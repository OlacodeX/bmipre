{
 "cells": [
  {
   "cell_type": "markdown",
   "id": "9c0ed5bf",
   "metadata": {},
   "source": [
    "Import necessary modlues and datasets"
   ]
  },
  {
   "cell_type": "code",
   "execution_count": 1,
   "id": "2178e148",
   "metadata": {},
   "outputs": [],
   "source": [
    "# import the modules\n",
    "import pandas as pd\n",
    "import numpy as np "
   ]
  },
  {
   "cell_type": "code",
   "execution_count": 6,
   "id": "1361f41b",
   "metadata": {},
   "outputs": [],
   "source": [
    "testDf = pd.read_csv('data/test_with_weights.csv')\n",
    "trainingDf = pd.read_csv('data/training_with_weights.csv')"
   ]
  },
  {
   "cell_type": "code",
   "execution_count": 7,
   "id": "22085f0e",
   "metadata": {},
   "outputs": [
    {
     "name": "stdout",
     "output_type": "stream",
     "text": [
      "<class 'pandas.core.frame.DataFrame'>\n",
      "RangeIndex: 320 entries, 0 to 319\n",
      "Data columns (total 5 columns):\n",
      " #   Column      Non-Null Count  Dtype  \n",
      "---  ------      --------------  -----  \n",
      " 0   Id          320 non-null    int64  \n",
      " 1   gender      320 non-null    object \n",
      " 2   image       320 non-null    object \n",
      " 3   height(m)   320 non-null    float64\n",
      " 4   weight(kg)  320 non-null    float64\n",
      "dtypes: float64(2), int64(1), object(2)\n",
      "memory usage: 12.6+ KB\n"
     ]
    }
   ],
   "source": [
    "testDf.info()"
   ]
  },
  {
   "cell_type": "code",
   "execution_count": 5,
   "id": "804a2afe",
   "metadata": {},
   "outputs": [
    {
     "name": "stdout",
     "output_type": "stream",
     "text": [
      "<class 'pandas.core.frame.DataFrame'>\n",
      "RangeIndex: 542 entries, 0 to 541\n",
      "Data columns (total 4 columns):\n",
      " #   Column      Non-Null Count  Dtype \n",
      "---  ------      --------------  ----- \n",
      " 0   Id          542 non-null    int64 \n",
      " 1   gender      542 non-null    object\n",
      " 2   height(cm)  542 non-null    int64 \n",
      " 3   image       542 non-null    object\n",
      "dtypes: int64(2), object(2)\n",
      "memory usage: 17.1+ KB\n"
     ]
    }
   ],
   "source": [
    "trainingDf.info()"
   ]
  },
  {
   "cell_type": "code",
   "execution_count": null,
   "id": "11d151b2",
   "metadata": {},
   "outputs": [],
   "source": []
  }
 ],
 "metadata": {
  "kernelspec": {
   "display_name": "Python 3 (ipykernel)",
   "language": "python",
   "name": "python3"
  },
  "language_info": {
   "codemirror_mode": {
    "name": "ipython",
    "version": 3
   },
   "file_extension": ".py",
   "mimetype": "text/x-python",
   "name": "python",
   "nbconvert_exporter": "python",
   "pygments_lexer": "ipython3",
   "version": "3.9.12"
  }
 },
 "nbformat": 4,
 "nbformat_minor": 5
}
